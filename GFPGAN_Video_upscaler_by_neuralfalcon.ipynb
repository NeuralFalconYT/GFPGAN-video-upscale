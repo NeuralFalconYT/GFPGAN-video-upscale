{
  "cells": [
    {
      "cell_type": "code",
      "execution_count": null,
      "metadata": {
        "cellView": "form",
        "id": "KIr6kNr1g5MF"
      },
      "outputs": [],
      "source": [
        "#@title Install GFPGAN (Make Sure you are connected with GPU)\n",
        "#if you are using local device make sure git installed in your device\n",
        "#comment if you are on local device #start\n",
        "!rm -rf /content/GFPGAN\n",
        "%cd /content/\n",
        "# end\n",
        "import os\n",
        "base_path=os.getcwd()+\"/\"\n",
        "!git clone https://github.com/TencentARC/GFPGAN.git\n",
        "os.chdir(f\"{base_path}GFPGAN\")\n",
        "!pip install -r requirements.txt\n",
        "!python setup.py develop\n",
        "!pip install realesrgan\n",
        "!pip install gradio\n",
        "from IPython.display import clear_output\n",
        "clear_output()"
      ]
    },
    {
      "cell_type": "code",
      "execution_count": null,
      "metadata": {
        "colab": {
          "base_uri": "https://localhost:8080/",
          "height": 92
        },
        "id": "2BcIx2OFIDZp",
        "outputId": "45f44cb9-2e00-4fee-b263-0dc37cb620a8"
      },
      "outputs": [
        {
          "output_type": "display_data",
          "data": {
            "text/plain": [
              "<IPython.core.display.HTML object>"
            ],
            "text/html": [
              "<b>Press play on the music player to keep the tab alive, then run the cell below</b><br/>\n",
              "<audio src=\"https://raw.githubusercontent.com/KoboldAI/KoboldAI-Client/main/colab/silence.m4a\" controls>\n"
            ]
          },
          "metadata": {}
        }
      ],
      "source": [
        "#@title <-- Tap this if you play on Mobile { display-mode: \"form\" }\n",
        "\n",
        "\n",
        "%%html\n",
        "<b>Press play on the music player to keep the tab alive, then run the cell below</b><br/>\n",
        "<audio src=\"https://raw.githubusercontent.com/KoboldAI/KoboldAI-Client/main/colab/silence.m4a\" controls>"
      ]
    },
    {
      "cell_type": "markdown",
      "metadata": {
        "id": "xyTgvnYlLHnr"
      },
      "source": [
        "### if you are using local device set it with you current path\n",
        "\n",
        "```\n",
        "base_path=\"/content\"\n",
        "```\n",
        "ctrl+f and find ```base_path```\n",
        "\n",
        "like\n",
        "```\n",
        "base_path=\"C:/neuralfalcon/upcale\"\n",
        "```\n",
        "\n"
      ]
    },
    {
      "cell_type": "code",
      "execution_count": null,
      "metadata": {
        "cellView": "form",
        "id": "xJ36pJAWNON4"
      },
      "outputs": [],
      "source": [
        "#@title Download Models from Public Links\n",
        "base_path=\"/content\"\n",
        "import os\n",
        "import shutil\n",
        "from zipfile import ZipFile\n",
        "from tqdm import tqdm\n",
        "import urllib\n",
        "def conditional_download(url, download_file_path):\n",
        "    print(f\"Downloading {os.path.basename(download_file_path)}\")\n",
        "    base_path = os.path.dirname(download_file_path)\n",
        "\n",
        "    if not os.path.exists(base_path):\n",
        "        os.makedirs(base_path)\n",
        "\n",
        "    if os.path.exists(download_file_path):\n",
        "        os.remove(download_file_path)\n",
        "\n",
        "    try:\n",
        "        request = urllib.request.urlopen(url)  # type: ignore[attr-defined]\n",
        "        total = int(request.headers.get('Content-Length', 0))\n",
        "    except urllib.error.URLError as e:\n",
        "        print(f\"Error: Unable to open the URL - {url}\")\n",
        "        print(f\"Reason: {e.reason}\")\n",
        "        return\n",
        "\n",
        "    with tqdm(total=total, desc='Downloading', unit='B', unit_scale=True, unit_divisor=1024) as progress:\n",
        "        try:\n",
        "            urllib.request.urlretrieve(url, download_file_path, reporthook=lambda count, block_size, total_size: progress.update(block_size))  # type: ignore[attr-defined]\n",
        "        except urllib.error.URLError as e:\n",
        "            print(f\"Error: Failed to download the file from the URL - {url}\")\n",
        "            print(f\"Reason: {e.reason}\")\n",
        "            return\n",
        "\n",
        "    print(f\"Download successful!\")\n",
        "    print(f\"URL: {url}\")\n",
        "    print(f\"Save at: {download_file_path}\")\n",
        "def extract_zip(zip_file_path,extract_path):\n",
        "    # Create the extraction directory if it doesn't exist\n",
        "    os.makedirs(extract_path, exist_ok=True)\n",
        "    # Open the ZIP file\n",
        "    with ZipFile(zip_file_path, 'r') as zip_ref:\n",
        "        # Extract all contents to the specified directory\n",
        "        zip_ref.extractall(extract_path)\n",
        "    print(f\"Contents of '{zip_file_path}' extracted to '{extract_path}'.\")\n",
        "\n",
        "\n",
        "inference_gfpgan='https://raw.githubusercontent.com/neuralfalcon/GFPGAN-video-upscale/main/inference_gfpgan.py'# @param {type: \"string\"}\n",
        "conditional_download(inference_gfpgan,f\"{base_path}/GFPGAN/inference_gfpgan.py\")\n",
        "download_image='https://raw.githubusercontent.com/neuralfalcon/GFPGAN-video-upscale/main/Download.png'# @param {type: \"string\"}\n",
        "conditional_download(download_image,f\"{base_path}/GFPGAN/Download.png\")\n",
        "gfpgan_model = 'https://github.com/TencentARC/GFPGAN/releases/download/v1.3.0/GFPGANv1.4.pth '  # @param {type: \"string\"}\n",
        "if not os.path.exists(f\"{base_path}/GFPGAN/experiments/pretrained_models/GFPGANv1.3.pth\"):\n",
        "  conditional_download(gfpgan_model,f\"{base_path}/GFPGAN/experiments/pretrained_models/GFPGANv1.3.pth\")\n",
        "RealESRGAN = 'https://github.com/xinntao/Real-ESRGAN/releases/download/v0.2.1/RealESRGAN_x2plus.pth'  # @param {type: \"string\"}\n",
        "if not os.path.exists(f\"{base_path}/GFPGAN/gfpgan/weights/RealESRGAN_x2plus.pth\"):\n",
        "  conditional_download(RealESRGAN,f\"{base_path}/GFPGAN/gfpgan/weights/RealESRGAN_x2plus.pth\")\n",
        "detection_Resnet50 = 'https://github.com/xinntao/facexlib/releases/download/v0.1.0/detection_Resnet50_Final.pth'  # @param {type: \"string\"}\n",
        "if not os.path.exists(f\"{base_path}/GFPGAN/gfpgan/weights/detection_Resnet50_Final.pth\"):\n",
        "  conditional_download(detection_Resnet50,f\"{base_path}/GFPGAN/gfpgan/weights/detection_Resnet50_Final.pth\")\n",
        "parsing_parsenet = 'https://github.com/xinntao/facexlib/releases/download/v0.2.2/parsing_parsenet.pth'  # @param {type: \"string\"}\n",
        "if not os.path.exists(f\"{base_path}/GFPGAN/gfpgan/weights/parsing_parsenet.pth\"):\n",
        "  conditional_download(parsing_parsenet,f\"{base_path}/GFPGAN/gfpgan/weights/parsing_parsenet.pth\")\n",
        "from IPython.display import clear_output\n",
        "clear_output()"
      ]
    },
    {
      "cell_type": "code",
      "execution_count": null,
      "metadata": {
        "cellView": "form",
        "id": "dsvqziUfNpg_"
      },
      "outputs": [],
      "source": [
        "#@title Utils\n",
        "base_path=\"/content\"\n",
        "import cv2\n",
        "from tqdm import tqdm\n",
        "from os import path\n",
        "import shutil\n",
        "import os\n",
        "from IPython.display import clear_output\n",
        "os.chdir(f\"{base_path}/GFPGAN\")\n",
        "def create_directory(directory_path):\n",
        "    if os.path.exists(directory_path):\n",
        "        shutil.rmtree(directory_path)\n",
        "    os.makedirs(directory_path)\n",
        "\n",
        "def extract_frames(video_path):\n",
        "  directory_path = f\"{base_path}/images\"\n",
        "  create_directory(directory_path)\n",
        "  var=os.system(f\" ffmpeg -i {video_path} {base_path}/images/%06d.jpg\")\n",
        "\n",
        "  if var==0:\n",
        "    print(\"We extracted frames Successfully\")\n",
        "    print(f\"Number of Images {len(os.listdir(directory_path))}\")\n",
        "  else:\n",
        "    print(\"Failed to extract frames\")\n",
        "\n",
        "import os\n",
        "import cv2\n",
        "from tqdm import tqdm\n",
        "\n",
        "import os\n",
        "import uuid\n",
        "\n",
        "def generate_random_name(video_filename):\n",
        "    base_name, extension = os.path.splitext(os.path.basename(video_filename))\n",
        "    random_uuid = str(uuid.uuid4().hex)[:6]\n",
        "    if os.path.exists(f\"{base_path}/gdrive/MyDrive/upload/\"):\n",
        "     new_name = f\"{base_path}/gdrive/MyDrive/upload/{base_name}_GFPGAN_{random_uuid}{extension}\"\n",
        "    else:\n",
        "      dir_name=os.path.dirname(video_filename)\n",
        "      if len(dir_name)!=0:\n",
        "        new_name = f\"{dir_name}/{base_name}_GFPGAN_{random_uuid}{extension}\"\n",
        "      else:\n",
        "        new_name = f\"{base_path}/{base_name}_GFPGAN_{random_uuid}{extension}\"\n",
        "\n",
        "    return new_name\n",
        "\n",
        "def make_video():\n",
        "    restoredFramesPath = f'{base_path}/GFPGAN/results/restored_imgs/'\n",
        "    processedVideoOutputPath = f'{base_path}/output'\n",
        "    create_directory(processedVideoOutputPath)\n",
        "    dir_list = os.listdir(restoredFramesPath)\n",
        "    dir_list.sort()\n",
        "\n",
        "    batch = 0\n",
        "    batchSize = 600\n",
        "    # print(dir_list)\n",
        "    for i in range(0, len(dir_list), batchSize):\n",
        "        img_array = []\n",
        "        start, end = i, i + batchSize\n",
        "        print(\"processing \", start, end)\n",
        "        for filename in dir_list[start:end]:\n",
        "            filename = restoredFramesPath + filename\n",
        "            # print(filename)\n",
        "            img = cv2.imread(filename)\n",
        "            if img is None:\n",
        "                continue\n",
        "            height, width, layers = img.shape\n",
        "            size = (width, height)\n",
        "            img_array.append(img)\n",
        "\n",
        "        # Save the video as MP4\n",
        "        out = cv2.VideoWriter(processedVideoOutputPath + f'/{str(batch).zfill(4)}.mp4',\n",
        "                              cv2.VideoWriter_fourcc(*'mp4v'), 25, size)\n",
        "        batch = batch + 1\n",
        "\n",
        "        for i in range(len(img_array)):\n",
        "            out.write(img_array[i])\n",
        "        out.release()\n",
        "def update_join():\n",
        "  video_folder = f'{base_path}/output'\n",
        "  output_txt_file = f'{base_path}/join.txt'\n",
        "  video_files = [file for file in os.listdir(video_folder) if file.endswith('.mp4')]\n",
        "  video_files.sort()\n",
        "  with open(output_txt_file, 'w') as file:\n",
        "      for video_file in video_files:\n",
        "          file.write(f\"file '{os.path.join(video_folder, video_file)}'\\n\")\n",
        "\n",
        "  print(f\"join.txt file created at: {output_txt_file}\")\n",
        "  return output_txt_file\n",
        "import os\n",
        "import shutil\n",
        "def clean_results():\n",
        "  if os.path.exists(f'{base_path}/GFPGAN/results'):\n",
        "    for i in os.listdir(f\"{base_path}/GFPGAN/results\"):\n",
        "      if os.path.exists(f\"{base_path}/GFPGAN/results/{i}\"):\n",
        "        shutil.rmtree(f\"{base_path}/GFPGAN/results/{i}\")\n",
        "import uuid\n",
        "import os\n",
        "def get_final_video_name():\n",
        "  generated_uuid = str(uuid.uuid4())[:8]\n",
        "  video_name=f\"{base_path}/{generated_uuid}.mp4\"\n",
        "  return video_name\n",
        "\n",
        "def upscale_video(video_path):\n",
        "  extract_frames(video_path)\n",
        "  if os.getcwd()!=f\"{base_path}/GFPGAN\":\n",
        "    os.chdir(f\"{base_path}/GFPGAN\")\n",
        "  clean_results()\n",
        "  var=os.system(f\"python inference_gfpgan.py -i {base_path}/images -o results -v 1.3 -s 2 --bg_upsampler realesrgan\")\n",
        "  if var!=0:\n",
        "    print(\"Image Upscale Failed\")\n",
        "\n",
        "  make_video()\n",
        "  update_join()\n",
        "  var1=os.system(f\"ffmpeg -f concat -safe 0 -i {base_path}/join.txt -c copy {base_path}/upscale.mp4 -y\")\n",
        "  if var1!=0:\n",
        "    print(\"Marged Video Failed\")\n",
        "  if os.path.exists(f\"{base_path}/audio.wav\"):\n",
        "    os.remove(f\"{base_path}/audio.wav\")\n",
        "  var2=os.system(f\"ffmpeg -i {video_path} {base_path}/audio.wav -y\")\n",
        "  if var2!=0:\n",
        "    print(\"ffmpeg Extract audio failed\")\n",
        "  if os.path.exists(f\"{base_path}/final_result.mp4\"):\n",
        "    os.remove(f\"{base_path}/final_result.mp4\")\n",
        "  var3=os.system(f\"ffmpeg -i {base_path}/upscale.mp4 -i {base_path}/audio.wav -c:v copy -map 0:v -map 1:a -y {base_path}/final_result.mp4\")\n",
        "  if var3==0:\n",
        "    print(f\"Video Save at {base_path}/final_result.mp4\")\n",
        "  else:\n",
        "    print(\"ffmpeg video and audio mix failed\")\n",
        "\n",
        "  new_filename = generate_random_name(video_path)\n",
        "  if os.path.exists(f\"{base_path}/final_result.mp4\"):\n",
        "    shutil.copy(f\"{base_path}/final_result.mp4\",new_filename)\n",
        "  else:\n",
        "    shutil.copy(f\"{base_path}/upscale.mp4\",new_filename)\n",
        "  print(f\"GFPGAN Upscale video copy save at {new_filename}\")\n",
        "  return new_filename\n",
        "from google.colab import output\n",
        "def successful():\n",
        "  output.eval_js('new Audio(\"https://www.myinstants.com/media/sounds/anime-wow-sound-effect.mp3\").play()')\n",
        "\n",
        "def error():\n",
        "  output.eval_js('new Audio(\"https://www.myinstants.com/media/sounds/movie_1.mp3\").play()')\n",
        "\n",
        "import re\n",
        "def clean_file_name(file_path):\n",
        "  file_name, file_extension = os.path.splitext(os.path.basename(file_path))\n",
        "  cleaned_file_name = re.sub(r'[^a-zA-Z ]', '', file_name).replace(' ', '_').strip('_')\n",
        "  cleaned_file_name = re.sub(r'_+', '_', cleaned_file_name)\n",
        "  new_file_path =cleaned_file_name + file_extension\n",
        "  return new_file_path\n",
        "def gradio_video_upscale(input_video_path):\n",
        "  clean_file=f\"{base_path}/{clean_file_name(input_video_path)}\"\n",
        "  shutil.copy(input_video_path,clean_file)\n",
        "  save_path=upscale_video(clean_file)\n",
        "  return save_path,save_path,save_path\n",
        "\n",
        "def upscale_image(img_path):\n",
        "  if not os.path.exists(f\"{base_path}/upscaled_image\"):\n",
        "    os.mkdir(f\"{base_path}/upscaled_image\")\n",
        "  if os.getcwd()!=f\"{base_path}/GFPGAN\":\n",
        "    os.chdir(f\"{base_path}/GFPGAN\")\n",
        "  clean_results()\n",
        "  var=os.system(f\"python inference_gfpgan.py -i {img_path} -o results -v 1.3 -s 2 --bg_upsampler realesrgan\")\n",
        "  if var!=0:\n",
        "    print(\"Image Upscale Failed\")\n",
        "    return None\n",
        "  else:\n",
        "    file_name = os.path.basename(img_path)\n",
        "    image_path=f\"{base_path}/GFPGAN/results/restored_imgs/{file_name}\"\n",
        "    new_path=f\"{base_path}/upscaled_image/{file_name}\"\n",
        "    shutil.copy(image_path,new_path)\n",
        "    return new_path\n",
        "\n",
        "from zipfile import ZipFile\n",
        "\n",
        "def zip_folder(folder_path, zip_path):\n",
        "    if os.path.exists(zip_path):\n",
        "      os.remove(zip_path)\n",
        "    with ZipFile(zip_path, 'w') as zipf:\n",
        "        for root, dirs, files in os.walk(folder_path):\n",
        "            for file in files:\n",
        "                file_path = os.path.join(root, file)\n",
        "                arcname = os.path.relpath(file_path, folder_path)\n",
        "                zipf.write(file_path, arcname=arcname)\n",
        "from PIL import Image\n",
        "\n",
        "def manage_files(multiple_images):\n",
        "  if len(multiple_images)==1:\n",
        "    save_path=upscale_image(multiple_images[-1])\n",
        "    pil_image = Image.open(save_path)\n",
        "    return save_path,save_path,pil_image\n",
        "  else:\n",
        "    random_uuid = str(uuid.uuid4().hex)[:6]\n",
        "    os.makedirs(f\"{base_path}/temp/GFPGAN_{random_uuid}\")\n",
        "    for image in multiple_images:\n",
        "      save_path=upscale_image(image)\n",
        "      file_name=os.path.basename(save_path)\n",
        "      shutil.copy(save_path,f\"{base_path}/temp/GFPGAN_{random_uuid}/{file_name}\")\n",
        "    zip_folder(f\"{base_path}/temp/GFPGAN_{random_uuid}\", f\"{base_path}/temp/GFPGAN_{random_uuid}.zip\")\n",
        "    full_path = os.path.abspath(f\"{base_path}/temp/GFPGAN_{random_uuid}.zip\")\n",
        "    pil_image = Image.open(f\"{base_path}/GFPGAN/Download.png\")\n",
        "    return f\"{base_path}/temp/GFPGAN_{random_uuid}.zip\",full_path,pil_image"
      ]
    },
    {
      "cell_type": "code",
      "execution_count": null,
      "metadata": {
        "cellView": "form",
        "id": "lb-el6YOr9EQ"
      },
      "outputs": [],
      "source": [
        "#@title Gradio webapp for Image & Video Upscale [Optional]\n",
        "import gradio as gr\n",
        "image_demo_inputs=[gr.File(label=\"Upload Single or Multiple Images\",file_count=\"multiple\",file_types=['image'],type='filepath')]\n",
        "image_demo_outputs=[gr.File(label=\"Download Image\"),gr.Textbox(label=\"Download From Colab Full Path is\"),gr.Image(type=\"pil\",label=\"Display Image\")]\n",
        "image_demo = gr.Interface(fn=manage_files, inputs=image_demo_inputs,outputs=image_demo_outputs , title=\"GFPGAN 1.4 Image Upscale\")\n",
        "video_demo_inputs=[gr.File(label=\"Upload a Video\",file_types=['.mp4'],type='filepath')]\n",
        "video_demo_outputs=[gr.File(label=\"Download Video\"),gr.Textbox(label=\"Download From Colab Full Path is\"),gr.Video(label=\"Display Video\")]\n",
        "video_demo = gr.Interface(fn=gradio_video_upscale, inputs=video_demo_inputs,outputs=video_demo_outputs , title=\"GFPGAN 1.4 Video Upscale\")\n",
        "demo = gr.TabbedInterface([image_demo,video_demo], [\"GFPGAN 1.4 Image Upscale\", \"GFPGAN 1.4 Video Upscale\"],title=\"GFPGAN 1.4 Image & Video Upscale\")\n",
        "if __name__ == \"__main__\":\n",
        "    demo.launch(debug=False)"
      ]
    },
    {
      "cell_type": "markdown",
      "metadata": {
        "id": "wjYjGcsH4rGM"
      },
      "source": [
        "# Without Gradio webapp"
      ]
    },
    {
      "cell_type": "code",
      "execution_count": null,
      "metadata": {
        "colab": {
          "base_uri": "https://localhost:8080/"
        },
        "id": "aUEuy-dRnI7Y",
        "outputId": "00822fb9-f665-486b-de69-31a712a3b9df"
      },
      "outputs": [
        {
          "output_type": "stream",
          "name": "stdout",
          "text": [
            "Open Google Drive and upload video in the folder called 'upload' or Use as auto backup\n"
          ]
        }
      ],
      "source": [
        "# @title ##**Mount drive for faster video upload, download and backup [For Colab]** { display-mode: \"form\" }\n",
        "base_path=\"/content\"\n",
        "from IPython.display import clear_output\n",
        "from google.colab import drive\n",
        "import os\n",
        "import shutil\n",
        "Mount_Google_Drive = True #@param {type:\"boolean\"}\n",
        "if Mount_Google_Drive:\n",
        "  drive.mount(f'{base_path}/gdrive')\n",
        "  clear_output()\n",
        "  if os.path.exists(f\"{base_path}/gdrive/MyDrive/\"):\n",
        "    if not os.path.exists(f\"{base_path}/gdrive/MyDrive/upload/\"):\n",
        "      os.mkdir(f\"{base_path}/gdrive/MyDrive/upload/\")\n",
        "    print(\"Open Google Drive and upload video in the folder called 'upload' or Use as auto backup\")"
      ]
    },
    {
      "cell_type": "code",
      "execution_count": null,
      "metadata": {
        "colab": {
          "base_uri": "https://localhost:8080/",
          "height": 73
        },
        "id": "FBIK9TiyoHp3",
        "outputId": "a9ce9f12-b7c4-41a3-b82f-9f52b6be3900"
      },
      "outputs": [
        {
          "output_type": "stream",
          "name": "stdout",
          "text": [
            "/content/upload/netaji.mp4\n"
          ]
        }
      ],
      "source": [
        "# @title ##**Choose option [For Colab]** { display-mode: \"form\" }\n",
        "import os\n",
        "import re\n",
        "import shutil\n",
        "base_path=\"/content\"\n",
        "from IPython.display import clear_output\n",
        "\n",
        "def get_clean_name(file_path):\n",
        "  # Extract file name and extension\n",
        "  file_name, file_extension = os.path.splitext(os.path.basename(file_path))\n",
        "  # Clean and optimize the file name\n",
        "  cleaned_file_name = re.sub(r'[^a-zA-Z ]', '', file_name).replace(' ', '_').strip('_')\n",
        "  # Replace consecutive underscores with a single underscore\n",
        "  cleaned_file_name = re.sub(r'_+', '_', cleaned_file_name)\n",
        "  # Create the new file path\n",
        "  new_file_path = os.path.join(os.path.dirname(file_path), cleaned_file_name + file_extension)\n",
        "  return new_file_path\n",
        "\n",
        "choose= \"upload_now\"#@param ['upload_now','drive_uploaded']\n",
        "if not os.path.exists(f\"{base_path}/upload/\"):\n",
        "  os.mkdir(f\"{base_path}/upload/\")\n",
        "clear_output()\n",
        "f_names=[]\n",
        "from google.colab import files\n",
        "if choose== \"upload_now\":\n",
        "  os.chdir(f\"{base_path}/upload/\")\n",
        "  uploaded = files.upload()\n",
        "  for fn in uploaded.keys():\n",
        "        file_path=f\"{base_path}/upload/{fn}\"\n",
        "        new_file_path=get_clean_name(file_path)\n",
        "        if not os.path.exists(new_file_path):\n",
        "          shutil.copy(file_path,new_file_path)\n",
        "        f_names.append(new_file_path)\n",
        "  clear_output()\n",
        "  print(f_names[-1])\n",
        "if choose== \"drive_uploaded\":\n",
        "  video_id=1\n",
        "  table={}\n",
        "  ids=[]\n",
        "  videos=[]\n",
        "  id_monitor={}\n",
        "  video_folder=f\"{base_path}/gdrive/MyDrive/upload\"\n",
        "  if not os.path.exists(video_folder):\n",
        "    print(f\"Run above cell to Mount google drive\")\n",
        "  else:\n",
        "    for i in os.listdir(video_folder):\n",
        "      ids.append(video_id)\n",
        "      videos.append(video_folder+\"/\"+i)\n",
        "      id_monitor[video_id]=video_folder+\"/\"+i\n",
        "      video_id=video_id+1\n",
        "    table[\"video_name\"]=videos\n",
        "    table[\"video_id\"]=ids\n",
        "    import pandas as pd\n",
        "    df = pd.DataFrame(table)\n",
        "    try:\n",
        "      df.set_index('video_id', inplace=True)\n",
        "    except:\n",
        "      pass\n",
        "    print(df)\n",
        "    print(\"\\n\")"
      ]
    },
    {
      "cell_type": "code",
      "execution_count": null,
      "metadata": {
        "colab": {
          "base_uri": "https://localhost:8080/",
          "height": 36
        },
        "id": "uHkTNfRLrtXt",
        "outputId": "acbc66cd-6d94-43db-9bc8-759c75951098"
      },
      "outputs": [
        {
          "output_type": "execute_result",
          "data": {
            "text/plain": [
              "'/content/upload/netaji.mp4'"
            ],
            "application/vnd.google.colaboratory.intrinsic+json": {
              "type": "string"
            }
          },
          "metadata": {},
          "execution_count": 14
        }
      ],
      "source": [
        "# @title ##**If you selected 'drive_uploaded' enter video id else just run  [For Colab]** { display-mode: \"form\" }\n",
        "\n",
        "if choose== \"upload_now\":\n",
        "  pass\n",
        "if choose== \"drive_uploaded\":\n",
        "  video_id =   1#@param {type: \"number\"}\n",
        "  f_names.append(id_monitor[int(video_id)])\n",
        "f_names[-1]"
      ]
    },
    {
      "cell_type": "code",
      "execution_count": null,
      "metadata": {
        "cellView": "form",
        "colab": {
          "background_save": true,
          "base_uri": "https://localhost:8080/"
        },
        "id": "nR4t0vlvO4Tx",
        "outputId": "a4ca4955-76bb-4473-c37e-4d7ee3a8223c"
      },
      "outputs": [
        {
          "metadata": {
            "tags": null
          },
          "name": "stdout",
          "output_type": "stream",
          "text": [
            "We extracted frames Successfully\n",
            "Number of Images 1487\n"
          ]
        }
      ],
      "source": [
        "#@title Enter a Video path\n",
        "def clean_file_name(file_path):\n",
        "  file_name, file_extension = os.path.splitext(os.path.basename(file_path))\n",
        "  cleaned_file_name = re.sub(r'[^a-zA-Z ]', '', file_name).replace(' ', '_').strip('_')\n",
        "  cleaned_file_name = re.sub(r'_+', '_', cleaned_file_name)\n",
        "  new_file_path =cleaned_file_name + file_extension\n",
        "  return new_file_path\n",
        "\n",
        "input_video_path = '/content/upload/netaji.mp4'  # @param {type: \"string\"}\n",
        "clean_file=f\"{base_path}/{clean_file_name(input_video_path)}\"\n",
        "shutil.copy(input_video_path,clean_file)\n",
        "save_path=upscale_video(clean_file)\n",
        "successful()\n",
        "from google.colab import files\n",
        "files.download(save_path)"
      ]
    }
  ],
  "metadata": {
    "accelerator": "GPU",
    "colab": {
      "gpuType": "T4",
      "provenance": []
    },
    "kernelspec": {
      "display_name": "Python 3",
      "name": "python3"
    },
    "language_info": {
      "name": "python"
    }
  },
  "nbformat": 4,
  "nbformat_minor": 0
}